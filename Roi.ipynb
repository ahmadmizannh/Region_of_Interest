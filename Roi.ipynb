{
 "cells": [
  {
   "cell_type": "markdown",
   "id": "301036a1",
   "metadata": {},
   "source": [
    "# Area Extraction using Region of Interest(RoI)"
   ]
  },
  {
   "cell_type": "markdown",
   "id": "f23fc4c7",
   "metadata": {},
   "source": [
    "Today We are going to learn about how to extract area using Region of Interest pooling method. RoI widely used in object detection task.\n",
    "\n",
    "In this article we will learn how RoI works with OpenCV in Python program. We need located the area first. Area Region of Interest (ROI) can be obtained by looking for the centroid of the image."
   ]
  },
  {
   "cell_type": "code",
   "execution_count": 15,
   "id": "33016175",
   "metadata": {},
   "outputs": [],
   "source": [
    "import cv2\n",
    "import numpy as np\n",
    "import imutils"
   ]
  },
  {
   "cell_type": "code",
   "execution_count": 16,
   "id": "3a654657",
   "metadata": {},
   "outputs": [],
   "source": [
    "imgpath = \"tampak depan asli.png\"\n",
    "img = cv2.imread(imgpath)"
   ]
  },
  {
   "cell_type": "markdown",
   "id": "6ba598cc",
   "metadata": {},
   "source": [
    "## Resize Image"
   ]
  },
  {
   "cell_type": "code",
   "execution_count": 17,
   "id": "a62da8b5",
   "metadata": {},
   "outputs": [],
   "source": [
    "height, width = 500, 500\n",
    "imgResize = cv2.resize(img,(height,width), interpolation=cv2.INTER_AREA)"
   ]
  },
  {
   "cell_type": "markdown",
   "id": "ad85d9b8",
   "metadata": {},
   "source": [
    "## ROI"
   ]
  },
  {
   "cell_type": "code",
   "execution_count": 18,
   "id": "1936a588",
   "metadata": {},
   "outputs": [],
   "source": [
    "cv2.rectangle(imgResize,(300,250),(320,270),(255,0,0),2)\n",
    "roi = imgResize[255:267, 305: 317]"
   ]
  },
  {
   "cell_type": "markdown",
   "id": "904f66c7",
   "metadata": {},
   "source": [
    "## Display"
   ]
  },
  {
   "cell_type": "code",
   "execution_count": 19,
   "id": "d7d45dcf",
   "metadata": {},
   "outputs": [
    {
     "data": {
      "text/plain": [
       "-1"
      ]
     },
     "execution_count": 19,
     "metadata": {},
     "output_type": "execute_result"
    }
   ],
   "source": [
    "cv2.imshow(\"resized\", imgResize)\n",
    "cv2.imshow(\"roi\", roi)\n",
    "cv2.waitKey(0)"
   ]
  }
 ],
 "metadata": {
  "kernelspec": {
   "display_name": "Python 3 (ipykernel)",
   "language": "python",
   "name": "python3"
  },
  "language_info": {
   "codemirror_mode": {
    "name": "ipython",
    "version": 3
   },
   "file_extension": ".py",
   "mimetype": "text/x-python",
   "name": "python",
   "nbconvert_exporter": "python",
   "pygments_lexer": "ipython3",
   "version": "3.9.12"
  }
 },
 "nbformat": 4,
 "nbformat_minor": 5
}
